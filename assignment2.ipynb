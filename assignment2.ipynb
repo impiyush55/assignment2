{
 "cells": [
  {
   "cell_type": "markdown",
   "id": "410c28b6-e288-4417-9ddc-72a8d0a55900",
   "metadata": {},
   "source": [
    "Q.no1 Which keyword is used to create a function? Create a function to return a list of odd numbers in the\n",
    "range of 1 to 25."
   ]
  },
  {
   "cell_type": "markdown",
   "id": "0f4cdec5-50ca-468b-8f68-528e1f25ac00",
   "metadata": {},
   "source": [
    "def keyword is used to create a function."
   ]
  },
  {
   "cell_type": "code",
   "execution_count": 5,
   "id": "3f0d98d0-72ed-4dad-b54f-e4b41098c295",
   "metadata": {},
   "outputs": [],
   "source": [
    "def list():\n",
    "    for i in range(1,25,2):\n",
    "        print(i)"
   ]
  },
  {
   "cell_type": "code",
   "execution_count": 6,
   "id": "8920a557-6dde-4133-a8e9-3eeddac0f514",
   "metadata": {},
   "outputs": [
    {
     "name": "stdout",
     "output_type": "stream",
     "text": [
      "1\n",
      "3\n",
      "5\n",
      "7\n",
      "9\n",
      "11\n",
      "13\n",
      "15\n",
      "17\n",
      "19\n",
      "21\n",
      "23\n"
     ]
    }
   ],
   "source": [
    "list()"
   ]
  },
  {
   "cell_type": "markdown",
   "id": "7f0052a0-9e50-485d-bb05-1feaaebb13be",
   "metadata": {},
   "source": [
    "Q.no (2) Why *args and **kwargs is used in some functions? Create a function each for *args and **kwargs\n",
    "to demonstrate their use."
   ]
  },
  {
   "cell_type": "markdown",
   "id": "4840094f-a7e3-42f0-b8b9-17b994acf85c",
   "metadata": {},
   "source": [
    "*args:-\n",
    "Python has *args which allow us to pass the variable number of non keyword arguments to function.\n",
    "\n",
    "In the function, we should use an asterisk * before the parameter name to pass variable length arguments.\n",
    "The arguments are passed as a tuple and these passed arguments make tuple inside the function with same name as the parameter excluding asterisk *."
   ]
  },
  {
   "cell_type": "code",
   "execution_count": 9,
   "id": "66222016-8ec7-4824-a7bb-18ea319541e8",
   "metadata": {},
   "outputs": [
    {
     "data": {
      "text/plain": [
       "(1, 2, 3, 'piyush')"
      ]
     },
     "execution_count": 9,
     "metadata": {},
     "output_type": "execute_result"
    }
   ],
   "source": [
    "def test(*args):\n",
    "    return args\n",
    "test(1,2,3,\"piyush\")"
   ]
  },
  {
   "cell_type": "markdown",
   "id": "27db7a1f-8c8a-4cde-a210-aa52aec91ada",
   "metadata": {},
   "source": [
    "**kwargs:- The arguments are passed as a dictionary and these arguments make a dictionary inside function with name same as the parameter excluding double asterisk **."
   ]
  },
  {
   "cell_type": "code",
   "execution_count": 12,
   "id": "dfa94ae3-e378-465e-ab04-26862cec4a5b",
   "metadata": {},
   "outputs": [
    {
     "data": {
      "text/plain": [
       "{'a': (1, 2, 3), 'b': 'piyush', 'c': 25.6}"
      ]
     },
     "execution_count": 12,
     "metadata": {},
     "output_type": "execute_result"
    }
   ],
   "source": [
    "def test(**kwargs):\n",
    "    return kwargs\n",
    "test(a=(1,2,3) , b=\"piyush\", c =25.6)"
   ]
  },
  {
   "cell_type": "markdown",
   "id": "1aefc88f-26fe-432b-bfe1-7285de81333f",
   "metadata": {},
   "source": [
    "Q3. What is an iterator in python? Name the method used to initialise the iterator object and the method\n",
    "used for iteration. Use these methods to print the first five elements of the given list [2, 4, 6, 8, 10, 12, 14,\n",
    "16, 18, 20]."
   ]
  },
  {
   "cell_type": "markdown",
   "id": "9c0185e9-2fb2-4cd4-a3f2-cace866c4f57",
   "metadata": {},
   "source": [
    "iterator- An iterator in an object that is used to iterate over iterable objects like lists, tuples, dicts, and sets. \n",
    "The Python iterators object is initialized using the iter() method. \n",
    "It uses the next() method for iteration.\n",
    "\n",
    "__iter__(): The iter() method is called for the initialization of an iterator. This returns an iterator object\n",
    "__next__(): The next method returns the next value for the iterable."
   ]
  },
  {
   "cell_type": "code",
   "execution_count": 14,
   "id": "3e73b4f4-3b4c-4847-bed6-007e5b34f2d4",
   "metadata": {},
   "outputs": [],
   "source": [
    "l=[2,4,6,8,10,12,14,16,18,20]\n",
    "i=iter(l)"
   ]
  },
  {
   "cell_type": "code",
   "execution_count": 15,
   "id": "c8aaf0b4-6078-48f9-ba2d-02392ca544b7",
   "metadata": {},
   "outputs": [
    {
     "data": {
      "text/plain": [
       "2"
      ]
     },
     "execution_count": 15,
     "metadata": {},
     "output_type": "execute_result"
    }
   ],
   "source": [
    "next(i)"
   ]
  },
  {
   "cell_type": "code",
   "execution_count": 16,
   "id": "85a5d07f-21fd-427d-898e-e94cd7de621d",
   "metadata": {},
   "outputs": [
    {
     "data": {
      "text/plain": [
       "4"
      ]
     },
     "execution_count": 16,
     "metadata": {},
     "output_type": "execute_result"
    }
   ],
   "source": [
    "next(i)"
   ]
  },
  {
   "cell_type": "code",
   "execution_count": 17,
   "id": "39e27873-250c-46da-83af-0972e02505e3",
   "metadata": {},
   "outputs": [
    {
     "data": {
      "text/plain": [
       "6"
      ]
     },
     "execution_count": 17,
     "metadata": {},
     "output_type": "execute_result"
    }
   ],
   "source": [
    "next(i)"
   ]
  },
  {
   "cell_type": "code",
   "execution_count": 18,
   "id": "9cb1d640-1952-43a2-93e9-0e13ec7349dc",
   "metadata": {},
   "outputs": [
    {
     "data": {
      "text/plain": [
       "8"
      ]
     },
     "execution_count": 18,
     "metadata": {},
     "output_type": "execute_result"
    }
   ],
   "source": [
    "next(i)"
   ]
  },
  {
   "cell_type": "code",
   "execution_count": 19,
   "id": "7c65369d-87ec-4d72-8724-1f525bb5903b",
   "metadata": {},
   "outputs": [
    {
     "data": {
      "text/plain": [
       "10"
      ]
     },
     "execution_count": 19,
     "metadata": {},
     "output_type": "execute_result"
    }
   ],
   "source": [
    "next(i)"
   ]
  },
  {
   "cell_type": "markdown",
   "id": "8dfccf4d-fe79-4e43-8f29-cef47e3cda85",
   "metadata": {},
   "source": [
    "Q4. What is a generator function in python? Why yield keyword is used? Give an example of a generator\n",
    "function."
   ]
  },
  {
   "cell_type": "markdown",
   "id": "4521ef98-3cb6-4f66-8817-c4332d4d441d",
   "metadata": {},
   "source": [
    "A generator function  is defined like a normal function, but whenever it needs to generate a value, in the place of return it uses the  yield keyword .\n",
    "If the body of a def contains yield, the function automatically becomes a  generator function. "
   ]
  },
  {
   "cell_type": "code",
   "execution_count": 20,
   "id": "9c70cae4-8fef-4d30-9ea2-7151a1e32e82",
   "metadata": {},
   "outputs": [],
   "source": [
    "def test_fib1():\n",
    "    a,b =0,1\n",
    "    while True:\n",
    "        yield a\n",
    "        a,b=b , a+b"
   ]
  },
  {
   "cell_type": "code",
   "execution_count": 21,
   "id": "08a5301b-9b98-4189-b68a-b3033801f535",
   "metadata": {},
   "outputs": [],
   "source": [
    "fib = test_fib1()"
   ]
  },
  {
   "cell_type": "code",
   "execution_count": 22,
   "id": "7a62d1d7-b3fc-4de6-8827-6c81201f9a86",
   "metadata": {},
   "outputs": [
    {
     "name": "stdout",
     "output_type": "stream",
     "text": [
      "0\n",
      "1\n",
      "1\n",
      "2\n",
      "3\n",
      "5\n",
      "8\n",
      "13\n",
      "21\n",
      "34\n"
     ]
    }
   ],
   "source": [
    "for i in range(10):\n",
    "    print(next(fib))"
   ]
  },
  {
   "cell_type": "markdown",
   "id": "674d3737-006b-426a-a36f-5e12021cfb62",
   "metadata": {},
   "source": [
    "Q6. Write a python program to print the first 10 Fibonacci numbers using a while loop."
   ]
  },
  {
   "cell_type": "code",
   "execution_count": 23,
   "id": "80857e4f-9e81-4bbd-9572-8e4a6b529b17",
   "metadata": {},
   "outputs": [
    {
     "name": "stdout",
     "output_type": "stream",
     "text": [
      "0\n",
      "1\n",
      "1\n",
      "2\n",
      "3\n",
      "5\n",
      "8\n",
      "13\n",
      "21\n",
      "34\n"
     ]
    }
   ],
   "source": [
    "def test_fib():\n",
    "    a,b =0,1\n",
    "    while True:\n",
    "        yield a\n",
    "        a, b=b, a+b\n",
    "fib = test_fib()\n",
    "for i in range (10):\n",
    "    print(next(fib))"
   ]
  },
  {
   "cell_type": "markdown",
   "id": "c103beb1-3ad7-4e33-b79d-632b1a7b14bc",
   "metadata": {},
   "source": [
    "Q7. Write a List Comprehension to iterate through the given string: ‘pwskills’.\n",
    "Expected output: ['p', 'w', 's', 'k', 'i', 'l', 'l', 's']"
   ]
  },
  {
   "cell_type": "code",
   "execution_count": 4,
   "id": "02a4d3e0-6b19-4e18-b217-70ac8379b4a0",
   "metadata": {},
   "outputs": [
    {
     "name": "stdout",
     "output_type": "stream",
     "text": [
      "['p', 'w', 's', 'k', 'i', 'l', 'l', 's']\n"
     ]
    }
   ],
   "source": [
    "string = [ letter for letter in 'pwskills' ]\n",
    "print(string)"
   ]
  },
  {
   "cell_type": "markdown",
   "id": "d1c75107-be95-43c2-b1d7-58a0c4de1a9a",
   "metadata": {},
   "source": [
    "Q8. Write a python program to check whether a given number is Palindrome or not using a while loop."
   ]
  },
  {
   "cell_type": "code",
   "execution_count": 1,
   "id": "4ba9185e-3eee-483d-ab5c-edf47906d9f4",
   "metadata": {},
   "outputs": [
    {
     "name": "stdin",
     "output_type": "stream",
     "text": [
      "Enter the number:  121\n"
     ]
    },
    {
     "name": "stdout",
     "output_type": "stream",
     "text": [
      "121 is a Palindrome\n"
     ]
    }
   ],
   "source": [
    "num = int(input('Enter the number: '))\n",
    "\n",
    "reverse = 0\n",
    "number = num\n",
    "while(num != 0):\n",
    "    \n",
    "    remainder = num % 10\n",
    "    reverse = reverse * 10 + remainder\n",
    "    num = int(num / 10)\n",
    "\n",
    "if(number == reverse):\n",
    "    print(number,'is a Palindrome')\n",
    "else:\n",
    "    print(number,'is not a Palindrome')"
   ]
  },
  {
   "cell_type": "markdown",
   "id": "aa252e8b-4da2-4595-8dad-5d4a8dfd1c56",
   "metadata": {},
   "source": [
    "Q.no 9 Write a code to print odd numbers from 1 to 100 using list comprehension."
   ]
  },
  {
   "cell_type": "code",
   "execution_count": 3,
   "id": "9e2c13e4-4cfe-46be-bdea-f1369d7f1eae",
   "metadata": {},
   "outputs": [
    {
     "name": "stdout",
     "output_type": "stream",
     "text": [
      "[1, 3, 5, 7, 9, 11, 13, 15, 17, 19, 21, 23, 25, 27, 29, 31, 33, 35, 37, 39, 41, 43, 45, 47, 49, 51, 53, 55, 57, 59, 61, 63, 65, 67, 69, 71, 73, 75, 77, 79, 81, 83, 85, 87, 89, 91, 93, 95, 97, 99]\n"
     ]
    }
   ],
   "source": [
    "list = [i for i in range(1, 101) if i % 2 == 1 ]\n",
    "print(list)"
   ]
  },
  {
   "cell_type": "code",
   "execution_count": null,
   "id": "cdbb9c82-a45c-431d-b491-9238301c8e8b",
   "metadata": {},
   "outputs": [],
   "source": []
  }
 ],
 "metadata": {
  "kernelspec": {
   "display_name": "Python 3 (ipykernel)",
   "language": "python",
   "name": "python3"
  },
  "language_info": {
   "codemirror_mode": {
    "name": "ipython",
    "version": 3
   },
   "file_extension": ".py",
   "mimetype": "text/x-python",
   "name": "python",
   "nbconvert_exporter": "python",
   "pygments_lexer": "ipython3",
   "version": "3.10.8"
  }
 },
 "nbformat": 4,
 "nbformat_minor": 5
}
